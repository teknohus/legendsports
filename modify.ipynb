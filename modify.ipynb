{
 "cells": [
  {
   "cell_type": "code",
   "execution_count": 8,
   "metadata": {},
   "outputs": [],
   "source": [
    "import os\n",
    "import re\n",
    "import  tqdm"
   ]
  },
  {
   "cell_type": "code",
   "execution_count": 15,
   "metadata": {},
   "outputs": [
    {
     "name": "stdout",
     "output_type": "stream",
     "text": [
      "./builder/src/components/loaders/FielderGlove.jsx\n",
      "Replacement completed successfully.\n",
      "./fielderprostar/src/components/loaders/FielderGlove.jsx\n",
      "Replacement completed successfully.\n",
      "./fielderyouth/src/components/loaders/FielderGlove.jsx\n",
      "Replacement completed successfully.\n",
      "./infieldcrown/src/components/loaders/FielderGlove.jsx\n",
      "Replacement completed successfully.\n",
      "./infieldf5/src/components/loaders/FielderGlove.jsx\n",
      "Replacement completed successfully.\n",
      "./infieldminimitt/src/components/loaders/FielderGlove.jsx\n",
      "Replacement completed successfully.\n",
      "./outfieldf5/src/components/loaders/FielderGlove.jsx\n",
      "Replacement completed successfully.\n",
      "./outfieldlegend/src/components/loaders/FielderGlove.jsx\n",
      "Replacement completed successfully.\n",
      "./outfieldprostar/src/components/loaders/FielderGlove.jsx\n",
      "Replacement completed successfully.\n",
      "./outfieldyouth/src/components/loaders/FielderGlove.jsx\n",
      "Replacement completed successfully.\n"
     ]
    }
   ],
   "source": [
    "import os\n",
    "\n",
    "# print(os.listdir(\"./builder/src/components/loaders/FielderGlove.jsx\"))\n",
    "\n",
    "def replace_line_in_file(file_path, old_line, new_line):\n",
    "    with open(file_path, 'r') as file:\n",
    "        lines = file.readlines()\n",
    "    \n",
    "    with open(file_path, 'w') as file:\n",
    "        for line in lines:\n",
    "            if old_line in line:\n",
    "                file.write(new_line + '\\n')\n",
    "            else:\n",
    "                file.write(line)\n",
    "\n",
    "app_directories = ['builder', 'fielderprostar', 'fielderyouth', 'infieldcrown', 'infieldf5', 'infieldminimitt', 'outfieldf5', 'outfieldlegend', 'outfieldprostar', 'outfieldyouth']\n",
    "\n",
    "\n",
    "for app_dir in app_directories:\n",
    "    file_path = \"/src/components/loaders/FielderGlove.jsx\"\n",
    "    file_path = \"./\" + app_dir + file_path\n",
    "    print(file_path)\n",
    "    # Define the old and new lines\n",
    "    old_line = 'position={[-0.0666, 0.127, -0.0063]}'\n",
    "    new_line = '        position={[-0.0666, 0.127, base.dual_welting ? -0.004 : -0.0063]}'\n",
    "\n",
    "    # Replace the old line with the new line\n",
    "    replace_line_in_file(file_path, old_line, new_line)\n",
    "\n",
    "    print(\"Replacement completed successfully.\")\n",
    "\n"
   ]
  },
  {
   "cell_type": "code",
   "execution_count": 23,
   "metadata": {},
   "outputs": [
    {
     "name": "stdout",
     "output_type": "stream",
     "text": [
      "Build Starting: fielderprostar .....\n",
      "Build Done: fielderprostar\n",
      "Build Starting: fielderyouth .....\n",
      "Build Done: fielderyouth\n",
      "Build Starting: infieldcrown .....\n",
      "Build Done: infieldcrown\n",
      "Build Starting: infieldf5 .....\n",
      "Build Done: infieldf5\n",
      "Build Starting: infieldminimitt .....\n",
      "Build Done: infieldminimitt\n",
      "Build Starting: outfieldf5 .....\n",
      "Build Done: outfieldf5\n",
      "Build Starting: outfieldlegend .....\n",
      "Build Done: outfieldlegend\n",
      "Build Starting: outfieldprostar .....\n",
      "Build Done: outfieldprostar\n",
      "Build Starting: outfieldyouth .....\n",
      "Build Done: outfieldyouth\n"
     ]
    }
   ],
   "source": [
    "# Define the path to the directory containing your React apps\n",
    "apps_directory = \"./\"\n",
    "\n",
    "app_directories = ['builder', 'fielderprostar', 'fielderyouth', 'infieldcrown', 'infieldf5', 'infieldminimitt', 'outfieldf5', 'outfieldlegend', 'outfieldprostar', 'outfieldyouth']\n",
    "\n",
    "# infield ones\n",
    "# app_directories = ['builder', 'fielderprostar', 'fielderyouth', 'infieldcrown', 'infieldf5', 'infieldminimitt',]\n",
    "\n",
    "\n",
    "for app_dir in app_directories:\n",
    "    print(\"Build Starting:\", app_dir, \".....\")\n",
    "    # Change directory to the app directory\n",
    "    os.chdir(os.path.join(apps_directory, app_dir))\n",
    "    \n",
    "    # Execute npm run build\n",
    "    os.system(\"npm run build\")\n",
    "    os.chdir(\"../\")\n",
    "    print(\"Build Done:\", app_dir)\n"
   ]
  },
  {
   "cell_type": "code",
   "execution_count": null,
   "metadata": {},
   "outputs": [],
   "source": []
  }
 ],
 "metadata": {
  "kernelspec": {
   "display_name": "Python 3",
   "language": "python",
   "name": "python3"
  },
  "language_info": {
   "codemirror_mode": {
    "name": "ipython",
    "version": 3
   },
   "file_extension": ".py",
   "mimetype": "text/x-python",
   "name": "python",
   "nbconvert_exporter": "python",
   "pygments_lexer": "ipython3",
   "version": "3.6.8"
  }
 },
 "nbformat": 4,
 "nbformat_minor": 2
}
